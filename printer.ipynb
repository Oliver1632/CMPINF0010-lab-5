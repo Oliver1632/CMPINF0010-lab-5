{
 "cells": [
  {
   "cell_type": "code",
   "execution_count": 21,
   "id": "outside-binary",
   "metadata": {},
   "outputs": [
    {
     "name": "stdin",
     "output_type": "stream",
     "text": [
      "What is your name? Ringo\n",
      "What is your age? 58\n"
     ]
    },
    {
     "name": "stdout",
     "output_type": "stream",
     "text": [
      "Ringo\n",
      "Ringo\n",
      "Ringo\n",
      "Ringo\n",
      "Ringo\n",
      "Ringo\n",
      "Ringo\n",
      "Ringo\n",
      "Ringo\n",
      "Ringo\n",
      "Ringo\n",
      "Ringo\n",
      "Ringo\n",
      "Ringo\n",
      "Ringo\n",
      "Ringo\n",
      "Ringo\n",
      "Ringo\n",
      "Ringo\n",
      "Ringo\n",
      "Ringo\n",
      "Ringo\n",
      "Ringo\n",
      "Ringo\n",
      "Ringo\n",
      "Ringo\n",
      "Ringo\n",
      "Ringo\n",
      "Ringo\n",
      "Ringo\n",
      "Ringo\n",
      "Ringo\n",
      "Ringo\n",
      "Ringo\n",
      "Ringo\n",
      "Ringo\n",
      "Ringo\n",
      "Ringo\n",
      "Ringo\n",
      "Ringo\n",
      "Ringo\n",
      "Ringo\n",
      "Ringo\n",
      "Ringo\n",
      "Ringo\n",
      "Ringo\n",
      "Ringo\n",
      "Ringo\n",
      "Ringo\n",
      "Ringo\n",
      "Ringo\n",
      "Ringo\n",
      "Ringo\n",
      "Ringo\n",
      "Ringo\n",
      "Ringo\n",
      "Ringo\n",
      "Ringo\n"
     ]
    }
   ],
   "source": [
    "error_str = \"Please enter a valid age.\"\n",
    "\n",
    "# name prompt\n",
    "name = input(prompt= \"What is your name?\")\n",
    "\n",
    "# --- age check loop --- #\n",
    "# keeps asking until valid integer age is entered\n",
    "\n",
    "while(True):\n",
    "    age = input(\"What is your age?\")\n",
    "    \n",
    "    # check if age is integer\n",
    "    try:\n",
    "        age = int(age)\n",
    "        \n",
    "        # check if age is inside human range\n",
    "        if age <= 0 or age >= 123:\n",
    "            print(error_str)\n",
    "        else:\n",
    "            break     \n",
    "    except:\n",
    "        print(error_str)\n",
    "\n",
    "# --- print loop --- #\n",
    "for i in range(age):\n",
    "    print(name)"
   ]
  },
  {
   "cell_type": "code",
   "execution_count": null,
   "id": "concrete-voluntary",
   "metadata": {},
   "outputs": [],
   "source": []
  }
 ],
 "metadata": {
  "kernelspec": {
   "display_name": "Python 3",
   "language": "python",
   "name": "python3"
  },
  "language_info": {
   "codemirror_mode": {
    "name": "ipython",
    "version": 3
   },
   "file_extension": ".py",
   "mimetype": "text/x-python",
   "name": "python",
   "nbconvert_exporter": "python",
   "pygments_lexer": "ipython3",
   "version": "3.8.5"
  }
 },
 "nbformat": 4,
 "nbformat_minor": 5
}
