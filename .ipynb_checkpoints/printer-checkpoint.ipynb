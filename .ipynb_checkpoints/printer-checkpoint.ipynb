{
 "cells": [
  {
   "cell_type": "code",
   "execution_count": 3,
   "metadata": {},
   "outputs": [
    {
     "name": "stdin",
     "output_type": "stream",
     "text": [
      "What is your name? Oliver\n",
      "How old are you? 19\n"
     ]
    },
    {
     "name": "stdout",
     "output_type": "stream",
     "text": [
      "Oliver\n",
      "Oliver\n",
      "Oliver\n",
      "Oliver\n",
      "Oliver\n",
      "Oliver\n",
      "Oliver\n",
      "Oliver\n",
      "Oliver\n",
      "Oliver\n",
      "Oliver\n",
      "Oliver\n",
      "Oliver\n",
      "Oliver\n",
      "Oliver\n",
      "Oliver\n",
      "Oliver\n",
      "Oliver\n",
      "Oliver\n"
     ]
    }
   ],
   "source": [
    "name = input(prompt= \"What is your name?\")\n",
    "age = input(prompt = \"How old are you?\")\n",
    "age = int(age)\n",
    "for i in range(age):\n",
    "    print(name)"
   ]
  },
  {
   "cell_type": "code",
   "execution_count": null,
   "metadata": {},
   "outputs": [],
   "source": []
  }
 ],
 "metadata": {
  "kernelspec": {
   "display_name": "Python 3",
   "language": "python",
   "name": "python3"
  },
  "language_info": {
   "codemirror_mode": {
    "name": "ipython",
    "version": 3
   },
   "file_extension": ".py",
   "mimetype": "text/x-python",
   "name": "python",
   "nbconvert_exporter": "python",
   "pygments_lexer": "ipython3",
   "version": "3.8.5"
  }
 },
 "nbformat": 4,
 "nbformat_minor": 5
}
